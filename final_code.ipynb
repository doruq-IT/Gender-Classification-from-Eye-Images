{
 "cells": [
  {
   "attachments": {},
   "cell_type": "markdown",
   "metadata": {},
   "source": [
    "## Loading Libraries\n",
    "All Python capabilities are not loaded to our working environment by default (even they are already installed in your system). So, we import each and every library that we want to use.\n",
    "\n",
    "We chose alias names for our libraries for the sake of our convenience (numpy --> np and pandas --> pd, tensorlow --> tf).\n",
    "\n",
    "Note: You can import all the libraries that you think will be required or can import it as you go along."
   ]
  },
  {
   "cell_type": "code",
   "execution_count": 1,
   "metadata": {},
   "outputs": [],
   "source": [
    "import pandas as pd                                     # Data analysis and manipultion tool\n",
    "import numpy as np                                      # Fundamental package for linear algebra and multidimensional arrays\n",
    "import tensorflow as tf                                 # Deep Learning Tool\n",
    "import os                                               # OS module in Python provides a way of using operating system dependent functionality\n",
    "import cv2                                              # Library for image processing\n",
    "from sklearn.model_selection import train_test_split    # For splitting the data into train and validation set\n",
    "from sklearn.metrics import f1_score\n",
    "from sklearn.preprocessing import LabelEncoder\n",
    "import matplotlib.pyplot as plt\n",
    "import cv2\n",
    "import warnings\n",
    "warnings.simplefilter(action='ignore', category=FutureWarning)"
   ]
  },
  {
   "attachments": {},
   "cell_type": "markdown",
   "metadata": {},
   "source": [
    "## Loading and preparing training data"
   ]
  },
  {
   "cell_type": "code",
   "execution_count": 2,
   "metadata": {},
   "outputs": [],
   "source": [
    "import cv2"
   ]
  },
  {
   "cell_type": "code",
   "execution_count": 3,
   "metadata": {},
   "outputs": [],
   "source": [
    "labels = pd.read_csv(\"content/eye_gender_data/Training_set.csv\") # loading the labels\n",
    "file_paths = [[fname, \"content/eye_gender_data/train/\" + fname] for fname in labels['filename']]\n",
    "images = pd.DataFrame(file_paths, columns=['filename', 'filepaths'])"
   ]
  },
  {
   "cell_type": "code",
   "execution_count": 4,
   "metadata": {},
   "outputs": [
    {
     "data": {
      "text/plain": [
       "[['Image_1.jpg', 'content/eye_gender_data/train/Image_1.jpg'],\n",
       " ['Image_2.jpg', 'content/eye_gender_data/train/Image_2.jpg'],\n",
       " ['Image_3.jpg', 'content/eye_gender_data/train/Image_3.jpg'],\n",
       " ['Image_4.jpg', 'content/eye_gender_data/train/Image_4.jpg'],\n",
       " ['Image_5.jpg', 'content/eye_gender_data/train/Image_5.jpg']]"
      ]
     },
     "execution_count": 4,
     "metadata": {},
     "output_type": "execute_result"
    }
   ],
   "source": [
    "file_paths[0:5]"
   ]
  },
  {
   "cell_type": "code",
   "execution_count": 5,
   "metadata": {},
   "outputs": [
    {
     "data": {
      "text/html": [
       "<div>\n",
       "<style scoped>\n",
       "    .dataframe tbody tr th:only-of-type {\n",
       "        vertical-align: middle;\n",
       "    }\n",
       "\n",
       "    .dataframe tbody tr th {\n",
       "        vertical-align: top;\n",
       "    }\n",
       "\n",
       "    .dataframe thead th {\n",
       "        text-align: right;\n",
       "    }\n",
       "</style>\n",
       "<table border=\"1\" class=\"dataframe\">\n",
       "  <thead>\n",
       "    <tr style=\"text-align: right;\">\n",
       "      <th></th>\n",
       "      <th>filename</th>\n",
       "      <th>label</th>\n",
       "    </tr>\n",
       "  </thead>\n",
       "  <tbody>\n",
       "    <tr>\n",
       "      <th>0</th>\n",
       "      <td>Image_1.jpg</td>\n",
       "      <td>male</td>\n",
       "    </tr>\n",
       "    <tr>\n",
       "      <th>1</th>\n",
       "      <td>Image_2.jpg</td>\n",
       "      <td>female</td>\n",
       "    </tr>\n",
       "    <tr>\n",
       "      <th>2</th>\n",
       "      <td>Image_3.jpg</td>\n",
       "      <td>female</td>\n",
       "    </tr>\n",
       "    <tr>\n",
       "      <th>3</th>\n",
       "      <td>Image_4.jpg</td>\n",
       "      <td>female</td>\n",
       "    </tr>\n",
       "    <tr>\n",
       "      <th>4</th>\n",
       "      <td>Image_5.jpg</td>\n",
       "      <td>male</td>\n",
       "    </tr>\n",
       "  </tbody>\n",
       "</table>\n",
       "</div>"
      ],
      "text/plain": [
       "      filename   label\n",
       "0  Image_1.jpg    male\n",
       "1  Image_2.jpg  female\n",
       "2  Image_3.jpg  female\n",
       "3  Image_4.jpg  female\n",
       "4  Image_5.jpg    male"
      ]
     },
     "execution_count": 5,
     "metadata": {},
     "output_type": "execute_result"
    }
   ],
   "source": [
    "labels.head()"
   ]
  },
  {
   "cell_type": "code",
   "execution_count": 6,
   "metadata": {},
   "outputs": [
    {
     "data": {
      "text/html": [
       "<div>\n",
       "<style scoped>\n",
       "    .dataframe tbody tr th:only-of-type {\n",
       "        vertical-align: middle;\n",
       "    }\n",
       "\n",
       "    .dataframe tbody tr th {\n",
       "        vertical-align: top;\n",
       "    }\n",
       "\n",
       "    .dataframe thead th {\n",
       "        text-align: right;\n",
       "    }\n",
       "</style>\n",
       "<table border=\"1\" class=\"dataframe\">\n",
       "  <thead>\n",
       "    <tr style=\"text-align: right;\">\n",
       "      <th></th>\n",
       "      <th>filename</th>\n",
       "      <th>filepaths</th>\n",
       "    </tr>\n",
       "  </thead>\n",
       "  <tbody>\n",
       "    <tr>\n",
       "      <th>0</th>\n",
       "      <td>Image_1.jpg</td>\n",
       "      <td>content/eye_gender_data/train/Image_1.jpg</td>\n",
       "    </tr>\n",
       "    <tr>\n",
       "      <th>1</th>\n",
       "      <td>Image_2.jpg</td>\n",
       "      <td>content/eye_gender_data/train/Image_2.jpg</td>\n",
       "    </tr>\n",
       "    <tr>\n",
       "      <th>2</th>\n",
       "      <td>Image_3.jpg</td>\n",
       "      <td>content/eye_gender_data/train/Image_3.jpg</td>\n",
       "    </tr>\n",
       "    <tr>\n",
       "      <th>3</th>\n",
       "      <td>Image_4.jpg</td>\n",
       "      <td>content/eye_gender_data/train/Image_4.jpg</td>\n",
       "    </tr>\n",
       "    <tr>\n",
       "      <th>4</th>\n",
       "      <td>Image_5.jpg</td>\n",
       "      <td>content/eye_gender_data/train/Image_5.jpg</td>\n",
       "    </tr>\n",
       "  </tbody>\n",
       "</table>\n",
       "</div>"
      ],
      "text/plain": [
       "      filename                                  filepaths\n",
       "0  Image_1.jpg  content/eye_gender_data/train/Image_1.jpg\n",
       "1  Image_2.jpg  content/eye_gender_data/train/Image_2.jpg\n",
       "2  Image_3.jpg  content/eye_gender_data/train/Image_3.jpg\n",
       "3  Image_4.jpg  content/eye_gender_data/train/Image_4.jpg\n",
       "4  Image_5.jpg  content/eye_gender_data/train/Image_5.jpg"
      ]
     },
     "execution_count": 6,
     "metadata": {},
     "output_type": "execute_result"
    }
   ],
   "source": [
    "images.head()"
   ]
  },
  {
   "cell_type": "code",
   "execution_count": 7,
   "metadata": {},
   "outputs": [],
   "source": [
    "train_data = pd.merge(images, labels, how = 'inner', on = 'filename')"
   ]
  },
  {
   "cell_type": "code",
   "execution_count": 8,
   "metadata": {},
   "outputs": [
    {
     "data": {
      "text/html": [
       "<div>\n",
       "<style scoped>\n",
       "    .dataframe tbody tr th:only-of-type {\n",
       "        vertical-align: middle;\n",
       "    }\n",
       "\n",
       "    .dataframe tbody tr th {\n",
       "        vertical-align: top;\n",
       "    }\n",
       "\n",
       "    .dataframe thead th {\n",
       "        text-align: right;\n",
       "    }\n",
       "</style>\n",
       "<table border=\"1\" class=\"dataframe\">\n",
       "  <thead>\n",
       "    <tr style=\"text-align: right;\">\n",
       "      <th></th>\n",
       "      <th>filename</th>\n",
       "      <th>filepaths</th>\n",
       "      <th>label</th>\n",
       "    </tr>\n",
       "  </thead>\n",
       "  <tbody>\n",
       "    <tr>\n",
       "      <th>0</th>\n",
       "      <td>Image_1.jpg</td>\n",
       "      <td>content/eye_gender_data/train/Image_1.jpg</td>\n",
       "      <td>male</td>\n",
       "    </tr>\n",
       "    <tr>\n",
       "      <th>1</th>\n",
       "      <td>Image_2.jpg</td>\n",
       "      <td>content/eye_gender_data/train/Image_2.jpg</td>\n",
       "      <td>female</td>\n",
       "    </tr>\n",
       "    <tr>\n",
       "      <th>2</th>\n",
       "      <td>Image_3.jpg</td>\n",
       "      <td>content/eye_gender_data/train/Image_3.jpg</td>\n",
       "      <td>female</td>\n",
       "    </tr>\n",
       "    <tr>\n",
       "      <th>3</th>\n",
       "      <td>Image_4.jpg</td>\n",
       "      <td>content/eye_gender_data/train/Image_4.jpg</td>\n",
       "      <td>female</td>\n",
       "    </tr>\n",
       "    <tr>\n",
       "      <th>4</th>\n",
       "      <td>Image_5.jpg</td>\n",
       "      <td>content/eye_gender_data/train/Image_5.jpg</td>\n",
       "      <td>male</td>\n",
       "    </tr>\n",
       "  </tbody>\n",
       "</table>\n",
       "</div>"
      ],
      "text/plain": [
       "      filename                                  filepaths   label\n",
       "0  Image_1.jpg  content/eye_gender_data/train/Image_1.jpg    male\n",
       "1  Image_2.jpg  content/eye_gender_data/train/Image_2.jpg  female\n",
       "2  Image_3.jpg  content/eye_gender_data/train/Image_3.jpg  female\n",
       "3  Image_4.jpg  content/eye_gender_data/train/Image_4.jpg  female\n",
       "4  Image_5.jpg  content/eye_gender_data/train/Image_5.jpg    male"
      ]
     },
     "execution_count": 8,
     "metadata": {},
     "output_type": "execute_result"
    }
   ],
   "source": [
    "train_data.head()"
   ]
  },
  {
   "cell_type": "code",
   "execution_count": 9,
   "metadata": {},
   "outputs": [
    {
     "data": {
      "text/plain": [
       "9220"
      ]
     },
     "execution_count": 9,
     "metadata": {},
     "output_type": "execute_result"
    }
   ],
   "source": [
    "train_data.shape[0]"
   ]
  },
  {
   "cell_type": "code",
   "execution_count": 10,
   "metadata": {},
   "outputs": [
    {
     "data": {
      "text/plain": [
       "'content/eye_gender_data/train/Image_1.jpg'"
      ]
     },
     "execution_count": 10,
     "metadata": {},
     "output_type": "execute_result"
    }
   ],
   "source": [
    "train_data['filepaths'][0]"
   ]
  },
  {
   "cell_type": "code",
   "execution_count": 11,
   "metadata": {},
   "outputs": [],
   "source": [
    "data = [] # initialize an empty numpy array\n",
    "image_size = 100 # image size taken is 100 here. one can take other size too\n",
    "for i in range(train_data.shape[0]):\n",
    "\n",
    "  img_array = cv2.imread(train_data['filepaths'][i], cv2.IMREAD_GRAYSCALE) # converting the image to gray scale\n",
    "# This code reads an image file and converts it to a grayscale image represented as a NumPy array.\n",
    "#The function cv2.imread is used to read an image file and return the contents of the file as a NumPy array. \n",
    "# The first argument to the function is the file path of the image file. The second argument specifies \n",
    "# how the image should be read. In this case, the image is being read in grayscale \n",
    "# mode by specifying the flag cv2.IMREAD_GRAYSCALE.\n",
    "#The resulting NumPy array will have a shape (image_height, image_width) for a 2D grayscale image, \n",
    "# or (image_height, image_width, num_channels) for a 2D image with multiple channels (e.g. RGB). \n",
    "# The values in the array will be integers representing the pixel intensities of the image.\n",
    "# Read the image in grayscale mode\n",
    "# img = cv2.imread('image.jpg', cv2.IMREAD_GRAYSCALE)\n",
    "\n",
    "  new_img_array = cv2.resize(img_array, (image_size, image_size)) # resizing the image array\n",
    "  data.append([new_img_array, train_data['label'][i]])"
   ]
  },
  {
   "cell_type": "code",
   "execution_count": 14,
   "metadata": {},
   "outputs": [
    {
     "data": {
      "text/plain": [
       "'male'"
      ]
     },
     "execution_count": 14,
     "metadata": {},
     "output_type": "execute_result"
    }
   ],
   "source": [
    "train_data['label'][0]"
   ]
  },
  {
   "attachments": {},
   "cell_type": "markdown",
   "metadata": {},
   "source": [
    "## Data Pre-processing\n",
    "It is necessary to bring all the images in the same shape and size, also convert them to their pixel values because all machine learning or deep learning models accepts only the numerical data. Also we need to convert all the labels from categorical to numerical values."
   ]
  },
  {
   "cell_type": "code",
   "execution_count": 15,
   "metadata": {},
   "outputs": [
    {
     "name": "stdout",
     "output_type": "stream",
     "text": [
      "[array([[188, 188, 189, ..., 176, 175, 175],\n",
      "       [189, 189, 188, ..., 174, 173, 172],\n",
      "       [190, 189, 188, ..., 168, 167, 167],\n",
      "       ...,\n",
      "       [133, 137, 144, ..., 168, 167, 166],\n",
      "       [134, 138, 145, ..., 165, 164, 163],\n",
      "       [135, 139, 146, ..., 163, 162, 162]], dtype=uint8), 'male']\n"
     ]
    },
    {
     "data": {
      "text/plain": [
       "Text(0.5, 1.0, 'male')"
      ]
     },
     "execution_count": 15,
     "metadata": {},
     "output_type": "execute_result"
    },
    {
     "data": {
      "image/png": "[encoded data removed]",
      "text/plain": [
       "<Figure size 640x480 with 1 Axes>"
      ]
     },
     "metadata": {},
     "output_type": "display_data"
    }
   ],
   "source": [
    "print(data[0])\n",
    "plt.imshow(data[0][0])\n",
    "plt.title(data[0][1])"
   ]
  },
  {
   "cell_type": "code",
   "execution_count": 16,
   "metadata": {},
   "outputs": [],
   "source": [
    "data2 = [] # initialize an empty numpy array\n",
    "image_size = 100 # image size taken is 100 here. one can take other size too\n",
    "for i in range(train_data.shape[0]):\n",
    "\n",
    "    img_array = cv2.imread(train_data['filepaths'][i], cv2.IMREAD_GRAYSCALE) # converting the image to gray scale\n",
    "\n",
    "    new_img_array = cv2.resize(img_array, (image_size, image_size)) # resizing the image array\n",
    "    data2.append([new_img_array])"
   ]
  },
  {
   "cell_type": "code",
   "execution_count": 17,
   "metadata": {},
   "outputs": [
    {
     "data": {
      "text/plain": [
       "array([[225, 225, 225, ..., 160, 160, 160],\n",
       "       [225, 225, 225, ..., 154, 154, 154],\n",
       "       [226, 226, 226, ..., 145, 146, 146],\n",
       "       ...,\n",
       "       [210, 208, 206, ..., 222, 222, 222],\n",
       "       [211, 209, 207, ..., 221, 221, 221],\n",
       "       [212, 210, 209, ..., 221, 221, 221]], dtype=uint8)"
      ]
     },
     "execution_count": 17,
     "metadata": {},
     "output_type": "execute_result"
    }
   ],
   "source": [
    "new_img_array"
   ]
  },
  {
   "cell_type": "code",
   "execution_count": 18,
   "metadata": {},
   "outputs": [
    {
     "data": {
      "text/plain": [
       "(9220, 1, 100, 100)"
      ]
     },
     "execution_count": 18,
     "metadata": {},
     "output_type": "execute_result"
    }
   ],
   "source": [
    "train_im = np.array(data2,dtype='uint8')\n",
    "# This means that the elements in the array will be integers ranging from 0 to 255 (inclusive).(8-bit integer.)\n",
    "train_im.shape"
   ]
  },
  {
   "cell_type": "code",
   "execution_count": 19,
   "metadata": {},
   "outputs": [
    {
     "name": "stdout",
     "output_type": "stream",
     "text": [
      "(9220, 100, 100, 1)\n",
      "uint8\n"
     ]
    }
   ],
   "source": [
    "train_im = train_im.reshape(9220,100,100,1)\n",
    "print(train_im.shape)\n",
    "print(train_im.dtype)"
   ]
  },
  {
   "cell_type": "code",
   "execution_count": 20,
   "metadata": {},
   "outputs": [
    {
     "data": {
      "text/html": [
       "<div>\n",
       "<style scoped>\n",
       "    .dataframe tbody tr th:only-of-type {\n",
       "        vertical-align: middle;\n",
       "    }\n",
       "\n",
       "    .dataframe tbody tr th {\n",
       "        vertical-align: top;\n",
       "    }\n",
       "\n",
       "    .dataframe thead th {\n",
       "        text-align: right;\n",
       "    }\n",
       "</style>\n",
       "<table border=\"1\" class=\"dataframe\">\n",
       "  <thead>\n",
       "    <tr style=\"text-align: right;\">\n",
       "      <th></th>\n",
       "      <th>images</th>\n",
       "      <th>gender</th>\n",
       "      <th>gender_cat</th>\n",
       "    </tr>\n",
       "  </thead>\n",
       "  <tbody>\n",
       "    <tr>\n",
       "      <th>0</th>\n",
       "      <td>[[188, 188, 189, 189, 190, 186, 180, 182, 185,...</td>\n",
       "      <td>male</td>\n",
       "      <td>1</td>\n",
       "    </tr>\n",
       "    <tr>\n",
       "      <th>1</th>\n",
       "      <td>[[167, 169, 173, 177, 181, 179, 178, 175, 175,...</td>\n",
       "      <td>female</td>\n",
       "      <td>0</td>\n",
       "    </tr>\n",
       "    <tr>\n",
       "      <th>2</th>\n",
       "      <td>[[181, 179, 177, 176, 175, 175, 175, 175, 173,...</td>\n",
       "      <td>female</td>\n",
       "      <td>0</td>\n",
       "    </tr>\n",
       "    <tr>\n",
       "      <th>3</th>\n",
       "      <td>[[98, 97, 97, 97, 98, 104, 108, 110, 111, 112,...</td>\n",
       "      <td>female</td>\n",
       "      <td>0</td>\n",
       "    </tr>\n",
       "    <tr>\n",
       "      <th>4</th>\n",
       "      <td>[[177, 180, 180, 173, 174, 172, 168, 171, 170,...</td>\n",
       "      <td>male</td>\n",
       "      <td>1</td>\n",
       "    </tr>\n",
       "  </tbody>\n",
       "</table>\n",
       "</div>"
      ],
      "text/plain": [
       "                                              images  gender  gender_cat\n",
       "0  [[188, 188, 189, 189, 190, 186, 180, 182, 185,...    male           1\n",
       "1  [[167, 169, 173, 177, 181, 179, 178, 175, 175,...  female           0\n",
       "2  [[181, 179, 177, 176, 175, 175, 175, 175, 173,...  female           0\n",
       "3  [[98, 97, 97, 97, 98, 104, 108, 110, 111, 112,...  female           0\n",
       "4  [[177, 180, 180, 173, 174, 172, 168, 171, 170,...    male           1"
      ]
     },
     "execution_count": 20,
     "metadata": {},
     "output_type": "execute_result"
    }
   ],
   "source": [
    "for i in range(len(data)):\n",
    "    a=pd.DataFrame(data)\n",
    "    a.columns= ['images','gender']\n",
    "    labelencoder = LabelEncoder()\n",
    "    a['gender_cat'] = labelencoder.fit_transform(a['gender'])\n",
    "a.head()"
   ]
  },
  {
   "cell_type": "code",
   "execution_count": 21,
   "metadata": {},
   "outputs": [
    {
     "data": {
      "text/plain": [
       "Text(0.5, 1.0, 'male')"
      ]
     },
     "execution_count": 21,
     "metadata": {},
     "output_type": "execute_result"
    },
    {
     "data": {
      "image/png": "[encoded data removed]",
      "text/plain": [
       "<Figure size 640x480 with 1 Axes>"
      ]
     },
     "metadata": {},
     "output_type": "display_data"
    }
   ],
   "source": [
    "plt.imshow(train_im[5].reshape(100,100))\n",
    "plt.title(a['gender'][5])"
   ]
  },
  {
   "cell_type": "code",
   "execution_count": 22,
   "metadata": {},
   "outputs": [],
   "source": [
    "X = train_im /255\n",
    "y = a['gender_cat']"
   ]
  },
  {
   "attachments": {},
   "cell_type": "markdown",
   "metadata": {},
   "source": [
    "X is a variable that is assigned the value of train_im (presumably an image or set of images) divided by 255. This normalizes the pixel values of the image(s) to be between 0 and 1.\n",
    "y is a variable that is assigned the value of the 'gender_cat' column of a dataframe called 'a'. This column presumably contains categorical data for the gender of the subject(s) in the corresponding images."
   ]
  },
  {
   "attachments": {},
   "cell_type": "markdown",
   "metadata": {},
   "source": [
    "## Building Model & Hyperparameter tuning\n",
    "Now we are finally ready, and we can train the model."
   ]
  },
  {
   "attachments": {},
   "cell_type": "markdown",
   "metadata": {},
   "source": [
    "- Two sets of convolutional and max pooling layers\n",
    "- A flatten layer\n",
    "- Two dense layers with dropout\n",
    "- An output layer\n",
    "The convolutional and max pooling layers are used to extract features from the input data, and\n",
    "the dense layers are used for classification.\n",
    "The dropout layers are used to regularize the model and prevent overfitting."
   ]
  },
  {
   "cell_type": "code",
   "execution_count": 63,
   "metadata": {},
   "outputs": [
    {
     "name": "stdout",
     "output_type": "stream",
     "text": [
      "Model: \"sequential_1\"\n",
      "_________________________________________________________________\n",
      " Layer (type)                Output Shape              Param #   \n",
      "=================================================================\n",
      " conv2d_2 (Conv2D)           (None, 98, 98, 16)        160       \n",
      "                                                                 \n",
      " max_pooling2d_2 (MaxPooling  (None, 49, 49, 16)       0         \n",
      " 2D)                                                             \n",
      "                                                                 \n",
      " conv2d_3 (Conv2D)           (None, 47, 47, 32)        4640      \n",
      "                                                                 \n",
      " max_pooling2d_3 (MaxPooling  (None, 23, 23, 32)       0         \n",
      " 2D)                                                             \n",
      "                                                                 \n",
      " flatten_1 (Flatten)         (None, 16928)             0         \n",
      "                                                                 \n",
      " dense_4 (Dense)             (None, 256)               4333824   \n",
      "                                                                 \n",
      " dropout_3 (Dropout)         (None, 256)               0         \n",
      "                                                                 \n",
      " dense_5 (Dense)             (None, 128)               32896     \n",
      "                                                                 \n",
      " dropout_4 (Dropout)         (None, 128)               0         \n",
      "                                                                 \n",
      " dense_6 (Dense)             (None, 2)                 258       \n",
      "                                                                 \n",
      "=================================================================\n",
      "Total params: 4,371,778\n",
      "Trainable params: 4,371,778\n",
      "Non-trainable params: 0\n",
      "_________________________________________________________________\n"
     ]
    }
   ],
   "source": [
    "# define input shape\n",
    "INPUT_SHAPE = (100,100,1)\n",
    "\n",
    "# define sequential model\n",
    "model = tf.keras.models.Sequential()\n",
    "# define conv-pool layers - set 1\n",
    "model.add(tf.keras.layers.Conv2D(filters=16, kernel_size=(3, 3), strides=(1, 1),\n",
    "activation='relu', padding='valid', input_shape=INPUT_SHAPE))\n",
    "model.add(tf.keras.layers.MaxPooling2D(pool_size=(2, 2)))\n",
    "# define conv-pool layers - set 2\n",
    "model.add(tf.keras.layers.Conv2D(filters=32, kernel_size=(3, 3), strides=(1, 1),\n",
    "activation='relu', padding='valid', input_shape=INPUT_SHAPE))\n",
    "model.add(tf.keras.layers.MaxPooling2D(pool_size=(2, 2)))\n",
    "\n",
    "# add flatten layer\n",
    "model.add(tf.keras.layers.Flatten())\n",
    "\n",
    "# add dense layers with some dropout\n",
    "\n",
    "model.add(tf.keras.layers.Dense(256, activation='relu'))\n",
    "model.add(tf.keras.layers.Dropout(rate=0.3))\n",
    "model.add(tf.keras.layers.Dense(128, activation='relu'))\n",
    "model.add(tf.keras.layers.Dropout(rate=0.3))\n",
    "\n",
    "# add output layer\n",
    "model.add(tf.keras.layers.Dense(2, activation='sigmoid'))\n",
    "\n",
    "# compile model\n",
    "model.compile(optimizer='adam',\n",
    "loss='sparse_categorical_crossentropy',\n",
    "metrics=['accuracy'])\n",
    "\n",
    "# view model layers\n",
    "model.summary()"
   ]
  },
  {
   "attachments": {},
   "cell_type": "markdown",
   "metadata": {},
   "source": [
    "## Validate the model"
   ]
  },
  {
   "attachments": {},
   "cell_type": "markdown",
   "metadata": {},
   "source": [
    "This code is training a model (presumably a neural network) on the data stored in the variables X and y.\n",
    "\n",
    "The number of training iterations, or \"epochs,\" is set to 10.\n",
    "The code also sets up an early stopping callback, which monitors the validation loss and stops training when the loss stops decreasing for 3 consecutive epochs.\n",
    "This early stopping callback also restores the model's weights from the epoch with the best validation loss.\n",
    "\n",
    "The model is being trained using mini-batch gradient descent with a batch size of 5.\n",
    "The training data is also split into training and validation sets, with 20% of the data being used for validation.\n",
    "The verbose parameter is set to 1, which means that the training progress will be displayed."
   ]
  },
  {
   "cell_type": "code",
   "execution_count": 64,
   "metadata": {},
   "outputs": [
    {
     "name": "stdout",
     "output_type": "stream",
     "text": [
      "Epoch 1/10\n",
      "1476/1476 [==============================] - 138s 93ms/step - loss: 0.5086 - accuracy: 0.7560 - val_loss: 0.3737 - val_accuracy: 0.8362\n",
      "Epoch 2/10\n",
      "1476/1476 [==============================] - 136s 92ms/step - loss: 0.3793 - accuracy: 0.8388 - val_loss: 0.3344 - val_accuracy: 0.8590\n",
      "Epoch 3/10\n",
      "1476/1476 [==============================] - 134s 91ms/step - loss: 0.3094 - accuracy: 0.8739 - val_loss: 0.3105 - val_accuracy: 0.8747\n",
      "Epoch 4/10\n",
      "1476/1476 [==============================] - 148s 100ms/step - loss: 0.2558 - accuracy: 0.8959 - val_loss: 0.2765 - val_accuracy: 0.8850\n",
      "Epoch 5/10\n",
      "1476/1476 [==============================] - 143s 97ms/step - loss: 0.2152 - accuracy: 0.9143 - val_loss: 0.2797 - val_accuracy: 0.8975\n",
      "Epoch 6/10\n",
      "1476/1476 [==============================] - 147s 100ms/step - loss: 0.1831 - accuracy: 0.9279 - val_loss: 0.2950 - val_accuracy: 0.8905\n",
      "Epoch 7/10\n",
      "1475/1476 [============================>.] - ETA: 0s - loss: 0.1498 - accuracy: 0.9418Restoring model weights from the end of the best epoch: 4.\n",
      "1476/1476 [==============================] - 145s 98ms/step - loss: 0.1498 - accuracy: 0.9418 - val_loss: 0.3160 - val_accuracy: 0.9051\n",
      "Epoch 7: early stopping\n"
     ]
    }
   ],
   "source": [
    "EPOCHS = 10\n",
    "\n",
    "es_callback = tf.keras.callbacks.EarlyStopping(monitor='val_loss',\n",
    "patience=3,\n",
    "restore_best_weights=True,\n",
    "verbose=1)\n",
    "history = model.fit(X,\n",
    "y,\n",
    "batch_size=5, #(mini-batch gradient descent with a batch size of 5)\n",
    "callbacks=[es_callback],\n",
    "validation_split=0.2,\n",
    "epochs=EPOCHS,verbose =1)"
   ]
  },
  {
   "attachments": {},
   "cell_type": "markdown",
   "metadata": {},
   "source": [
    "## Predict The Output For Testing Dataset\n",
    "We have trained our model, evaluated it and now finally we will predict the output/target for the testing data (i.e. Test.csv)."
   ]
  },
  {
   "attachments": {},
   "cell_type": "markdown",
   "metadata": {},
   "source": [
    "#### Load Test Set\n",
    "Load the test data on which final submission is to be made."
   ]
  },
  {
   "cell_type": "code",
   "execution_count": 65,
   "metadata": {},
   "outputs": [],
   "source": [
    "test_labels = pd.read_csv(\"content/eye_gender_data/Testing_set.csv\") # loading the labels\n",
    "file_paths2 = [[fname2, 'content/eye_gender_data/test/' + fname2] for fname2 in test_labels['filename']]\n",
    "images_test = pd.DataFrame(file_paths, columns=['filename', 'filepaths'])\n",
    "test_data = pd.merge(images_test, test_labels, how = 'inner', on = 'filename')\n",
    "\n",
    "data_test = [] # initialize an empty numpy array\n",
    "image_size = 100 # image size taken is 100 here. one can take other size too\n",
    "for i in range(test_data.shape[0]):\n",
    "\n",
    "    img_array_test = cv2.imread(test_data['filepaths'][i], cv2.IMREAD_GRAYSCALE) # converting the image to gray scale\n",
    "\n",
    "    new_img_array_test = cv2.resize(img_array_test, (image_size, image_size)) # resizing the image array\n",
    "    data_test.append([new_img_array_test])"
   ]
  },
  {
   "attachments": {},
   "cell_type": "markdown",
   "metadata": {},
   "source": [
    "## Data Pre-processing on test_data"
   ]
  },
  {
   "cell_type": "code",
   "execution_count": 66,
   "metadata": {},
   "outputs": [
    {
     "data": {
      "text/plain": [
       "(2305, 1, 100, 100)"
      ]
     },
     "execution_count": 66,
     "metadata": {},
     "output_type": "execute_result"
    }
   ],
   "source": [
    "test_image = np.array(data_test,dtype='uint8')\n",
    "test_image.shape"
   ]
  },
  {
   "attachments": {},
   "cell_type": "markdown",
   "metadata": {},
   "source": [
    "\"uint8\" stands for \"unsigned integer 8 bits\", and it is a data type used to represent integers in programming languages.\n",
    "In the context of image processing, it is used to represent the intensity values of pixels in an image, where each pixel is represented by 8 bits (1 byte) of data.\n",
    "This data type can represent integers in the range of 0 to 255, and it is typically used to store image data, where each pixel value corresponds to an intensity value between 0 and 255."
   ]
  },
  {
   "cell_type": "code",
   "execution_count": 67,
   "metadata": {},
   "outputs": [],
   "source": [
    "test_image = test_image.reshape(2305,100,100,1)"
   ]
  },
  {
   "cell_type": "code",
   "execution_count": 68,
   "metadata": {},
   "outputs": [
    {
     "name": "stdout",
     "output_type": "stream",
     "text": [
      "(2305, 100, 100, 1)\n",
      "uint8\n"
     ]
    }
   ],
   "source": [
    "print(test_image.shape)\n",
    "print(test_image.dtype)"
   ]
  },
  {
   "cell_type": "code",
   "execution_count": 69,
   "metadata": {},
   "outputs": [
    {
     "data": {
      "image/png": "[encoded data removed]",
      "text/plain": [
       "<Figure size 640x480 with 1 Axes>"
      ]
     },
     "metadata": {},
     "output_type": "display_data"
    }
   ],
   "source": [
    "plt.imshow(test_image[5].reshape(100,100));"
   ]
  },
  {
   "cell_type": "code",
   "execution_count": 70,
   "metadata": {},
   "outputs": [],
   "source": [
    "test_norm = test_image / 255"
   ]
  },
  {
   "attachments": {},
   "cell_type": "markdown",
   "metadata": {},
   "source": [
    "### Make Prediction on Test Dataset\n",
    "Time to make a submission!!!"
   ]
  },
  {
   "cell_type": "code",
   "execution_count": 71,
   "metadata": {},
   "outputs": [
    {
     "name": "stdout",
     "output_type": "stream",
     "text": [
      "73/73 [==============================] - 4s 48ms/step\n"
     ]
    },
    {
     "data": {
      "text/plain": [
       "array([[0.07219873, 0.95942354],\n",
       "       [0.9372863 , 0.0404053 ],\n",
       "       [0.777417  , 0.2562721 ],\n",
       "       [0.8680295 , 0.12937716],\n",
       "       [0.10770761, 0.9013183 ]], dtype=float32)"
      ]
     },
     "execution_count": 71,
     "metadata": {},
     "output_type": "execute_result"
    }
   ],
   "source": [
    "prediction_final = model.predict(test_norm)\n",
    "prediction_final[:5]"
   ]
  },
  {
   "cell_type": "code",
   "execution_count": 72,
   "metadata": {},
   "outputs": [
    {
     "name": "stdout",
     "output_type": "stream",
     "text": [
      "      filename   label\n",
      "0  Image_1.jpg    male\n",
      "1  Image_2.jpg  female\n",
      "2  Image_3.jpg  female\n",
      "3  Image_4.jpg  female\n",
      "4  Image_5.jpg    male\n"
     ]
    }
   ],
   "source": [
    "prediction_final_label = np.argmax(prediction_final,axis=1)\n",
    "submission_final=pd.DataFrame({'filename':test_labels['filename'], 'label_num':prediction_final_label})\n",
    "\n",
    "submission_final[\"label\"] = labelencoder.inverse_transform(submission_final['label_num'])\n",
    "submission_final = submission_final[['filename','label']]\n",
    "submission_final.to_csv('submission.csv', index = False)\n",
    "print(submission_final.head())"
   ]
  },
  {
   "attachments": {},
   "cell_type": "markdown",
   "metadata": {},
   "source": [
    "This code is generating a final prediction for a set of test data and creating a submission file for it.\n",
    "\n",
    "prediction_final is a 2D array of the final predictions, where each row represents a sample, and each column represents a class.\n",
    "np.argmax(prediction_final,axis=1) is used to get the class label with the highest probability for each sample. It returns an array of class labels.\n",
    "\n",
    "A dataframe submission_final is created with two columns 'filename' which is populated with test_labels['filename'] and 'label_num' which is populated with the predicted class labels.\n",
    "\n",
    "Then submission_final[\"label\"] is populated by converting the 'label_num' column using the labelencoder's inverse_transform method. The inverse_transform method maps the encoded labels back to their original class labels.\n",
    "\n",
    "Finally, the dataframe is reorganized and saved as a csv file named 'submission.csv' with the columns 'filename' and 'label' and the index is set to False.\n",
    "And the first 5 rows of the dataframe are printed with the print(submission_final.head()) command."
   ]
  }
 ],
 "metadata": {
  "kernelspec": {
   "display_name": "Python 3",
   "language": "python",
   "name": "python3"
  },
  "language_info": {
   "codemirror_mode": {
    "name": "ipython",
    "version": 3
   },
   "file_extension": ".py",
   "mimetype": "text/x-python",
   "name": "python",
   "nbconvert_exporter": "python",
   "pygments_lexer": "ipython3",
   "version": "3.10.8"
  },
  "orig_nbformat": 4,
  "vscode": {
   "interpreter": {
    "hash": "5fe87102cd5f8f942401cb1142057ded62566b3e57c7d6859abcdd55d98882e4"
   }
  }
 },
 "nbformat": 4,
 "nbformat_minor": 2
}
